{
  "cells": [
    {
      "cell_type": "markdown",
      "metadata": {
        "id": "view-in-github",
        "colab_type": "text"
      },
      "source": [
        "<a href=\"https://colab.research.google.com/github/AbhiishekSiingh/Abhishek/blob/main/mnist.ipynb\" target=\"_parent\"><img src=\"https://colab.research.google.com/assets/colab-badge.svg\" alt=\"Open In Colab\"/></a>"
      ]
    },
    {
      "cell_type": "markdown",
      "source": [
        "# New Section"
      ],
      "metadata": {
        "id": "PvcAPWtl61vk"
      }
    },
    {
      "cell_type": "code",
      "source": [
        "import numpy as np\n",
        "import keras\n",
        "import matplotlib.pyplot as plt\n",
        "from keras.layers import Dense, Flatten\n",
        "from keras.models import Sequential\n",
        "from keras.utils import to_categorical\n",
        "from keras.datasets import mnist\n",
        "import warnings\n",
        "warnings.filterwarnings('ignore')"
      ],
      "metadata": {
        "id": "BLkg63bt7D0j"
      },
      "execution_count": 36,
      "outputs": []
    },
    {
      "source": [
        "from tensorflow.keras.losses import CategoricalCrossentropy"
      ],
      "cell_type": "code",
      "metadata": {
        "id": "GeOkKCrPBfan"
      },
      "execution_count": 37,
      "outputs": []
    },
    {
      "cell_type": "code",
      "source": [
        "(X_train, y_train), (X_test, y_test) = mnist.load_data()"
      ],
      "metadata": {
        "id": "VV9RUA1g7vmO"
      },
      "execution_count": 38,
      "outputs": []
    },
    {
      "cell_type": "code",
      "source": [
        "y_test.shape"
      ],
      "metadata": {
        "id": "WypL7zaD70Xr",
        "outputId": "8da656b4-58fc-4717-a782-2b3ebb6a866c",
        "colab": {
          "base_uri": "https://localhost:8080/"
        }
      },
      "execution_count": 39,
      "outputs": [
        {
          "output_type": "execute_result",
          "data": {
            "text/plain": [
              "(10000,)"
            ]
          },
          "metadata": {},
          "execution_count": 39
        }
      ]
    },
    {
      "cell_type": "code",
      "source": [
        "fig, axes=plt.subplots(ncols=10, sharex=False,\n",
        "                       sharey=True, figsize=(20,4))\n",
        "for i in range(10):\n",
        "    axes[i].set_title(y_train[i])\n",
        "    axes[i].imshow(X_train[i])\n",
        "    axes[i].get_xaxis().set_visible(False)\n",
        "    axes[i].get_yaxis().set_visible(False)\n",
        "plt.show()"
      ],
      "metadata": {
        "id": "pwTX-d6h8BIm",
        "outputId": "6c91d93f-27e9-4277-b1cc-2ed484ee3f1d",
        "colab": {
          "base_uri": "https://localhost:8080/",
          "height": 154
        }
      },
      "execution_count": 40,
      "outputs": [
        {
          "output_type": "display_data",
          "data": {
            "text/plain": [
              "<Figure size 2000x400 with 10 Axes>"
            ],
            "image/png": "[encoded data removed]"
          },
          "metadata": {}
        }
      ]
    },
    {
      "source": [
        "y_train = to_categorical(y_train)\n",
        "y_test = to_categorical(y_test)"
      ],
      "cell_type": "code",
      "metadata": {
        "id": "6bq3Edhc9n3y"
      },
      "execution_count": 41,
      "outputs": []
    },
    {
      "cell_type": "code",
      "source": [
        "y_train.shape"
      ],
      "metadata": {
        "id": "2vAFh2ls98i6",
        "outputId": "6f74525d-ead4-4ad2-d8dd-7c7f3fa89e2a",
        "colab": {
          "base_uri": "https://localhost:8080/"
        }
      },
      "execution_count": 42,
      "outputs": [
        {
          "output_type": "execute_result",
          "data": {
            "text/plain": [
              "(60000, 10)"
            ]
          },
          "metadata": {},
          "execution_count": 42
        }
      ]
    },
    {
      "cell_type": "code",
      "source": [
        "model=Sequential()\n",
        "model.add(Flatten(input_shape=(28,28)))\n",
        "model.add(Dense(10, activation='sigmoid'))\n",
        "model.add(Dense(5, activation='sigmoid'))\n",
        "model.add(Dense(10, activation='softmax'))"
      ],
      "metadata": {
        "id": "jAcpEhr7-IhJ"
      },
      "execution_count": 43,
      "outputs": []
    },
    {
      "cell_type": "code",
      "source": [
        "model.summary()"
      ],
      "metadata": {
        "id": "7TzPqkZM-IP7",
        "outputId": "393876b2-0734-431b-94eb-21abaee042fd",
        "colab": {
          "base_uri": "https://localhost:8080/"
        }
      },
      "execution_count": 44,
      "outputs": [
        {
          "output_type": "stream",
          "name": "stdout",
          "text": [
            "Model: \"sequential_2\"\n",
            "_________________________________________________________________\n",
            " Layer (type)                Output Shape              Param #   \n",
            "=================================================================\n",
            " flatten_1 (Flatten)         (None, 784)               0         \n",
            "                                                                 \n",
            " dense_5 (Dense)             (None, 10)                7850      \n",
            "                                                                 \n",
            " dense_6 (Dense)             (None, 5)                 55        \n",
            "                                                                 \n",
            " dense_7 (Dense)             (None, 10)                60        \n",
            "                                                                 \n",
            "=================================================================\n",
            "Total params: 7965 (31.11 KB)\n",
            "Trainable params: 7965 (31.11 KB)\n",
            "Non-trainable params: 0 (0.00 Byte)\n",
            "_________________________________________________________________\n"
          ]
        }
      ]
    },
    {
      "source": [
        "import utils"
      ],
      "cell_type": "code",
      "metadata": {
        "id": "5drcP_dyoDzv"
      },
      "execution_count": 11,
      "outputs": []
    },
    {
      "source": [
        "plot_model(model, show_shapes=True)"
      ],
      "cell_type": "code",
      "metadata": {
        "colab": {
          "base_uri": "https://localhost:8080/",
          "height": 533
        },
        "id": "nWjD0tsKoGlX",
        "outputId": "1e5e21b8-ad27-42e0-ab2e-a6d9c408e031"
      },
      "execution_count": 45,
      "outputs": [
        {
          "output_type": "execute_result",
          "data": {
            "image/png": "[encoded data removed]",
            "text/plain": [
              "<IPython.core.display.Image object>"
            ]
          },
          "metadata": {},
          "execution_count": 45
        }
      ]
    },
    {
      "cell_type": "code",
      "source": [
        "# https://pypi.python.org/pypi/pydot\n",
        "!apt-get -qq install -y graphviz && pip install pydot\n",
        "import pydot"
      ],
      "metadata": {
        "colab": {
          "base_uri": "https://localhost:8080/"
        },
        "id": "8CFdz2u5nlP6",
        "outputId": "fa301658-a008-4dcd-cd69-dec37cec1a32"
      },
      "execution_count": 15,
      "outputs": [
        {
          "output_type": "stream",
          "name": "stdout",
          "text": [
            "Requirement already satisfied: pydot in /usr/local/lib/python3.10/dist-packages (1.4.2)\n",
            "Requirement already satisfied: pyparsing>=2.1.4 in /usr/local/lib/python3.10/dist-packages (from pydot) (3.1.2)\n"
          ]
        }
      ]
    },
    {
      "cell_type": "code",
      "source": [
        "model.compile(loss='categorical_crossentropy',\n",
        "              optimizer='adam',\n",
        "              metrics=['acc'])"
      ],
      "metadata": {
        "id": "9lML2dcXBFJv"
      },
      "execution_count": 46,
      "outputs": []
    },
    {
      "source": [
        "from tensorflow.keras.models import Sequential\n",
        "from tensorflow.keras.layers import Dense"
      ],
      "cell_type": "code",
      "metadata": {
        "id": "ebAt0rGbsOAC"
      },
      "execution_count": 27,
      "outputs": []
    },
    {
      "source": [
        "print(X_train.shape)\n",
        "print(y_train.shape)"
      ],
      "cell_type": "code",
      "metadata": {
        "colab": {
          "base_uri": "https://localhost:8080/"
        },
        "id": "do_L2658sQuQ",
        "outputId": "c6d3127d-9f47-40ea-f57d-bc9700d59417"
      },
      "execution_count": 29,
      "outputs": [
        {
          "output_type": "stream",
          "name": "stdout",
          "text": [
            "(60000, 28, 28)\n",
            "(60000, 10)\n"
          ]
        }
      ]
    },
    {
      "source": [
        "print(X_test.shape)\n",
        "print(y_test.shape)"
      ],
      "cell_type": "code",
      "metadata": {
        "colab": {
          "base_uri": "https://localhost:8080/"
        },
        "id": "gtOL1rhXsR1e",
        "outputId": "7b4f010d-2a67-4f0d-81f9-4ab398cf98d6"
      },
      "execution_count": 30,
      "outputs": [
        {
          "output_type": "stream",
          "name": "stdout",
          "text": [
            "(10000, 28, 28)\n",
            "(10000, 10)\n"
          ]
        }
      ]
    },
    {
      "source": [
        "model.compile(optimizer='adam',\n",
        "              loss='categorical_crossentropy',\n",
        "              metrics=['accuracy'])"
      ],
      "cell_type": "code",
      "metadata": {
        "id": "plmxsRmkstkW"
      },
      "execution_count": 47,
      "outputs": []
    },
    {
      "source": [
        "history = model.fit(X_train, y_train, epochs=20,\n",
        "          validation_data=(X_test, y_test))"
      ],
      "cell_type": "code",
      "metadata": {
        "colab": {
          "base_uri": "https://localhost:8080/"
        },
        "id": "sgPWZgwHsuuQ",
        "outputId": "8a798b33-599b-4f0e-b228-f4d1a56366e0"
      },
      "execution_count": 48,
      "outputs": [
        {
          "output_type": "stream",
          "name": "stdout",
          "text": [
            "Epoch 1/20\n",
            "1875/1875 [==============================] - 7s 3ms/step - loss: 1.7619 - accuracy: 0.5161 - val_loss: 1.3063 - val_accuracy: 0.6563\n",
            "Epoch 2/20\n",
            "1875/1875 [==============================] - 6s 3ms/step - loss: 1.1221 - accuracy: 0.6666 - val_loss: 0.9748 - val_accuracy: 0.7061\n",
            "Epoch 3/20\n",
            "1875/1875 [==============================] - 6s 3ms/step - loss: 0.9031 - accuracy: 0.7333 - val_loss: 0.8003 - val_accuracy: 0.7576\n",
            "Epoch 4/20\n",
            "1875/1875 [==============================] - 6s 3ms/step - loss: 0.7904 - accuracy: 0.7675 - val_loss: 0.7189 - val_accuracy: 0.7998\n",
            "Epoch 5/20\n",
            "1875/1875 [==============================] - 6s 3ms/step - loss: 0.7273 - accuracy: 0.7880 - val_loss: 0.6814 - val_accuracy: 0.8103\n",
            "Epoch 6/20\n",
            "1875/1875 [==============================] - 6s 3ms/step - loss: 0.7003 - accuracy: 0.7895 - val_loss: 0.6851 - val_accuracy: 0.7928\n",
            "Epoch 7/20\n",
            "1875/1875 [==============================] - 6s 3ms/step - loss: 0.6373 - accuracy: 0.8158 - val_loss: 0.6209 - val_accuracy: 0.8423\n",
            "Epoch 8/20\n",
            "1875/1875 [==============================] - 6s 3ms/step - loss: 0.6424 - accuracy: 0.8132 - val_loss: 0.6054 - val_accuracy: 0.8346\n",
            "Epoch 9/20\n",
            "1875/1875 [==============================] - 6s 3ms/step - loss: 0.6255 - accuracy: 0.8200 - val_loss: 0.6423 - val_accuracy: 0.8113\n",
            "Epoch 10/20\n",
            "1875/1875 [==============================] - 6s 3ms/step - loss: 0.6116 - accuracy: 0.8247 - val_loss: 0.5655 - val_accuracy: 0.8511\n",
            "Epoch 11/20\n",
            "1875/1875 [==============================] - 7s 4ms/step - loss: 0.5789 - accuracy: 0.8369 - val_loss: 0.5874 - val_accuracy: 0.8222\n",
            "Epoch 12/20\n",
            "1875/1875 [==============================] - 6s 3ms/step - loss: 0.5851 - accuracy: 0.8284 - val_loss: 0.6002 - val_accuracy: 0.8127\n",
            "Epoch 13/20\n",
            "1875/1875 [==============================] - 6s 3ms/step - loss: 0.5896 - accuracy: 0.8291 - val_loss: 0.5652 - val_accuracy: 0.8478\n",
            "Epoch 14/20\n",
            "1875/1875 [==============================] - 7s 3ms/step - loss: 0.5783 - accuracy: 0.8380 - val_loss: 0.5410 - val_accuracy: 0.8541\n",
            "Epoch 15/20\n",
            "1875/1875 [==============================] - 6s 3ms/step - loss: 0.5603 - accuracy: 0.8416 - val_loss: 0.5561 - val_accuracy: 0.8436\n",
            "Epoch 16/20\n",
            "1875/1875 [==============================] - 7s 4ms/step - loss: 0.5520 - accuracy: 0.8406 - val_loss: 0.5606 - val_accuracy: 0.8498\n",
            "Epoch 17/20\n",
            "1875/1875 [==============================] - 6s 3ms/step - loss: 0.5670 - accuracy: 0.8393 - val_loss: 0.5285 - val_accuracy: 0.8626\n",
            "Epoch 18/20\n",
            "1875/1875 [==============================] - 6s 3ms/step - loss: 0.5503 - accuracy: 0.8468 - val_loss: 0.5384 - val_accuracy: 0.8499\n",
            "Epoch 19/20\n",
            "1875/1875 [==============================] - 6s 3ms/step - loss: 0.5537 - accuracy: 0.8381 - val_loss: 0.5290 - val_accuracy: 0.8552\n",
            "Epoch 20/20\n",
            "1875/1875 [==============================] - 6s 3ms/step - loss: 0.5445 - accuracy: 0.8461 - val_loss: 0.5199 - val_accuracy: 0.8611\n"
          ]
        }
      ]
    },
    {
      "cell_type": "code",
      "source": [
        "model.save('mnist_model.h5')"
      ],
      "metadata": {
        "id": "ua9obHmVrljJ"
      },
      "execution_count": 49,
      "outputs": []
    },
    {
      "cell_type": "code",
      "source": [
        "# prompt: how to find saved model path\n",
        "\n",
        "!find . -name mnist_model.h5\n"
      ],
      "metadata": {
        "colab": {
          "base_uri": "https://localhost:8080/"
        },
        "id": "3rxoUOmJvubb",
        "outputId": "f8294fca-6964-4438-d4b3-836a7e6d7d4a"
      },
      "execution_count": 50,
      "outputs": [
        {
          "output_type": "stream",
          "name": "stdout",
          "text": [
            "./mnist_model.h5\n"
          ]
        }
      ]
    }
  ],
  "metadata": {
    "accelerator": "GPU",
    "colab": {
      "provenance": [],
      "gpuType": "T4",
      "include_colab_link": true
    },
    "kernelspec": {
      "display_name": "Python 3",
      "name": "python3"
    }
  },
  "nbformat": 4,
  "nbformat_minor": 0
}